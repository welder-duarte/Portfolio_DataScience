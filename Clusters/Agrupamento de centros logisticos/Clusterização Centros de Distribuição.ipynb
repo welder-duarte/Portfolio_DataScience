{
 "cells": [
  {
   "cell_type": "markdown",
   "metadata": {},
   "source": [
    "##### INSTALAÇÃO DOS PACOTES"
   ]
  },
  {
   "cell_type": "code",
   "execution_count": null,
   "metadata": {},
   "outputs": [],
   "source": [
    "# Instalando os pacotes\n",
    "# Executar o seguinte comando no console: \n",
    "#!pip install -r requirements.txt\n",
    "#!pip3 install -U googlemaps\n",
    "#!pip3 install folium\n",
    "#!pip3 install ortools"
   ]
  },
  {
   "cell_type": "markdown",
   "metadata": {},
   "source": [
    "##### IMPORTANDO AS BIBLIOTECAS"
   ]
  },
  {
   "cell_type": "code",
   "execution_count": null,
   "metadata": {},
   "outputs": [],
   "source": [
    "import requests\n",
    "import googlemaps\n",
    "import pandas as pd\n",
    "import numpy as np\n",
    "from sklearn.cluster import KMeans\n",
    "import matplotlib.pyplot as plt\n",
    "import folium\n",
    "import json\n",
    "\n",
    "import warnings\n",
    "warnings.filterwarnings('ignore')\n",
    "# -*- coding: utf-8 -*-"
   ]
  },
  {
   "cell_type": "markdown",
   "metadata": {},
   "source": [
    "##### INICIANDO API GOOGLE MAPS E CRIANDO FUNCAO PARA PEGAR COORDENADAS COM GEOCODE"
   ]
  },
  {
   "cell_type": "code",
   "execution_count": null,
   "metadata": {},
   "outputs": [],
   "source": [
    "# Iniciando API google maps\n",
    "\n",
    "api_key = json.load(open(r'C:\\Users\\Valeria\\Projetos_DS\\cred_gclp.json')).get('api_key')\n",
    "gmaps = googlemaps.Client(key=api_key)"
   ]
  },
  {
   "cell_type": "code",
   "execution_count": null,
   "metadata": {},
   "outputs": [],
   "source": [
    "# Função para obter informações de latitude e longitude\n",
    "def coordenadas(cidade):\n",
    "    geocode = gmaps.geocode(cidade)\n",
    "    lat = geocode[0]['geometry']['location']['lat']\n",
    "    lng = geocode[0]['geometry']['location']['lng']\n",
    "    \n",
    "    return [lat, lng]"
   ]
  },
  {
   "cell_type": "markdown",
   "metadata": {},
   "source": [
    "##### IMPORTANDO DADOS"
   ]
  },
  {
   "cell_type": "code",
   "execution_count": null,
   "metadata": {},
   "outputs": [],
   "source": [
    "# Importando dados\n",
    "CDs = pd.read_csv('./bases/cidades_cds.csv', sep=',',encoding='utf-8')\n",
    "CDs['CITY - UF'] = CDs['CITY'] + ' - ' + CDs['UF']\n",
    "CDs.drop(columns=['CITY','UF'], inplace=True)\n",
    "\n",
    "cidades_iniciais = CDs['CITY - UF'].unique()"
   ]
  },
  {
   "cell_type": "code",
   "execution_count": null,
   "metadata": {},
   "outputs": [],
   "source": [
    "# Coletando Latitude e Longitude via API Google Maps\n",
    "for linha in range(0,len(CDs)):\n",
    "    coord = coordenadas(CDs.loc[linha, 'CITY - UF'])\n",
    "    CDs.loc[linha, 'LAT'] = coord[0]\n",
    "    CDs.loc[linha, 'LNG'] = coord[1]\n",
    "    \n",
    "del coord"
   ]
  },
  {
   "cell_type": "code",
   "execution_count": null,
   "metadata": {},
   "outputs": [],
   "source": [
    "# Criando array com coordenadas das cidades\n",
    "coordenadas = []\n",
    "for linha in range(0,len(CDs)):\n",
    "    coordenada = [CDs.loc[linha, 'LAT'],CDs.loc[linha, 'LNG']]\n",
    "    coordenadas.append(coordenada)\n",
    "    \n",
    "    cidades = np.array(coordenadas)\n",
    "    \n",
    "del coordenada, coordenadas"
   ]
  },
  {
   "cell_type": "code",
   "execution_count": null,
   "metadata": {},
   "outputs": [],
   "source": [
    "# Carregando poligonos cidades UF SP. Repositorio fonte: https://github.com/tbrugz/geodata-br/tree/master\n",
    "mun_sp = json.load(open('./bases/geojs-35-mun.json', encoding='utf-8'))"
   ]
  },
  {
   "cell_type": "code",
   "execution_count": null,
   "metadata": {},
   "outputs": [],
   "source": [
    "# Função para plotar mapa usando pacote Folium\n",
    "\n",
    "#Cores disponiveis: {'lightred','red','darkred','lightblue','blue','darkblue','cadetblue','lightgreen','green','darkgreen',\n",
    "#'white','lightgray','gray','black','pink','purple','darkpurple','beige','orange'}\n",
    "\n",
    "def plotar_mapa(info, base, cidades, poligonos, cores_clusters):\n",
    "    \n",
    "    # Criando mapa centralizado no estado de SP (parametro location)\n",
    "    mapa = folium.Map(width=800, height=500, location = [-22.9050,-47.06133], zoom_start = 6)                                            \n",
    "    folium.GeoJson(mun_sp,style_function=lambda feature: {'fillColor': 'gray','color': 'darkred','weight': 0.8,}).add_to(mapa)\n",
    "    \n",
    "    # Se info = 'inicial', plota mapa inicial\n",
    "    if info == 'inicial':\n",
    "        \n",
    "        #Adicionando marcadores para cada coordenada\n",
    "        for item in range(0,len(cidades)):\n",
    "            folium.Marker(cidades[item], icon=folium.Icon(color = 'orange')).add_to(mapa)\n",
    "        return mapa\n",
    "    \n",
    "    # Se info = 'cluster', plota mapa clusterizado\n",
    "    elif info == 'cluster':\n",
    "        \n",
    "        # Criando um dicionário de cores para os clusters\n",
    "        cores = {0: 'blue', 1: 'red', 2: 'green', 3: 'pink'}\n",
    "\n",
    "        # Adicionando marcadores para cada coordenada com cores correspondentes aos clusters\n",
    "        for coord, cluster in zip(cidades, cores_clusters):\n",
    "            folium.Marker(location=coord, icon=folium.Icon(color=cores[cluster])).add_to(mapa)\n",
    "\n",
    "        # Adicionando marcadores para os centroides\n",
    "        for item in range(0,len(base)):\n",
    "            folium.Marker(base[item],icon=folium.Icon(color = 'black')).add_to(mapa)\n",
    "\n",
    "        # Adicionando circunferencias de raio 150km, considerando premissa do problema\n",
    "        for item in range(0,len(base)):\n",
    "            folium.Circle(base[item], radius = 150000, color='black', weight=1, fill=True, fill_color='beige', fill_opacity=0.2).add_to(mapa)\n",
    "    \n",
    "        return mapa"
   ]
  },
  {
   "cell_type": "code",
   "execution_count": null,
   "metadata": {},
   "outputs": [],
   "source": [
    "# Plotando mapa inicial para visualização\n",
    "mapa = plotar_mapa('inicial', 0, cidades, mun_sp, 0)\n",
    "mapa"
   ]
  },
  {
   "cell_type": "code",
   "execution_count": null,
   "metadata": {},
   "outputs": [],
   "source": [
    "# Aplicação do algoritmo k-means\n",
    "\n",
    "# Quantidade de clusters desejado: escolhido valor 4 por haver apenas 4 gerentes para SP\n",
    "k = 4  \n",
    "\n",
    "# Criando o objeto K-Means\n",
    "kmeans = KMeans(n_clusters=k, init='random', n_init='auto').fit(cidades)\n",
    "\n",
    "# Obtendo os rótulos dos clusters para as cidades\n",
    "rotulos_clusters = kmeans.labels_\n",
    "\n",
    "# Obtendo os centros finais após a clusterização\n",
    "clusters = kmeans.cluster_centers_"
   ]
  },
  {
   "cell_type": "code",
   "execution_count": null,
   "metadata": {},
   "outputs": [],
   "source": [
    "# Plotando mapa clusterizado com centroides\n",
    "mapa2 = plotar_mapa('cluster', clusters, cidades, mun_sp, rotulos_clusters)\n",
    "mapa2"
   ]
  },
  {
   "cell_type": "markdown",
   "metadata": {},
   "source": [
    "##### TSP"
   ]
  },
  {
   "cell_type": "code",
   "execution_count": null,
   "metadata": {},
   "outputs": [],
   "source": [
    "# TSP - Travelling Sallesman Problem (Problema do Caixeiro Viajante)\n",
    "\n",
    "CDs['CLUSTERS'] = rotulos_clusters\n",
    "CDs[['BASES','EXISTE']] = [0,1]"
   ]
  },
  {
   "cell_type": "code",
   "execution_count": null,
   "metadata": {},
   "outputs": [],
   "source": [
    "def coletando_dados_centroides(lat,lng):\n",
    "    url = \"https://maps.googleapis.com/maps/api/geocode/json?\"\n",
    "    coord = str(lat) + ',' + str(lng)\n",
    "\n",
    "    # Fazendo solicitação HTTP\n",
    "    r = requests.get(url + \"latlng=\" + coord + \"&key=\"+api_key).json()\n",
    "    \n",
    "    # Filtrando dados\n",
    "    r = r['results'][0]['address_components']\n",
    "    \n",
    "    # Loop buscando a chave\n",
    "    for item in r:\n",
    "        if 'administrative_area_level_2' in item.get('types', []):\n",
    "            cidade = str(item['short_name']).upper()\n",
    "        if 'administrative_area_level_1' in item.get('types', []):\n",
    "            uf = str(item['short_name']).upper()\n",
    "            \n",
    "    cid_centro = cidade + ' - ' + uf\n",
    "    \n",
    "    return [lat, lng, cid_centro]"
   ]
  },
  {
   "cell_type": "code",
   "execution_count": null,
   "metadata": {},
   "outputs": [],
   "source": [
    "dados = []\n",
    "for cluster in clusters:\n",
    "    resp = coletando_dados_centroides(round(cluster[0],6),round(cluster[1],6))\n",
    "    dados.append(resp)\n",
    "    \n",
    "base_centros = pd.DataFrame(dados, columns=['LAT','LNG','CITY - UF'])\n",
    "base_centros['CLUSTERS'] = base_centros.index\n",
    "base_centros[['BASES','EXISTE']] = [1,0]\n",
    "\n",
    "for index, row in base_centros.iterrows():\n",
    "    x = row['CITY - UF'] \n",
    "    if x in cidades_iniciais:\n",
    "        base_centros.loc[index,'EXISTE'] = 1\n",
    "        \n",
    "CDs = pd.concat([CDs,base_centros], axis=0, join='inner')\n",
    "CDs.drop_duplicates(subset='CITY - UF', keep='last', inplace=True)\n",
    "CDs.reset_index(inplace=True, drop=True)"
   ]
  },
  {
   "cell_type": "code",
   "execution_count": null,
   "metadata": {},
   "outputs": [],
   "source": [
    "# URL para calcular distância na Google Cloud\n",
    "\n",
    "def calculando_distancias(origem, destino):\n",
    "    url = \"https://maps.googleapis.com/maps/api/distancematrix/json?\"\n",
    "\n",
    "    # Fazer solicitação HTTP\n",
    "    r = requests.get(url + \"origins=\"+origem+\"&destinations=\"+destino+\"&key=\"+api_key)\n",
    "\n",
    "    # Extrair valores de distância e tempo de percurso da resposta\n",
    "    distancia_valor = r.json()['rows'][0][\"elements\"][0][\"distance\"][\"value\"]\n",
    "    distancia_texto = r.json()['rows'][0][\"elements\"][0][\"distance\"][\"text\"]\n",
    "    tempo_valor = r.json()['rows'][0][\"elements\"][0][\"duration\"][\"value\"]\n",
    "    tempo_texto = r.json()['rows'][0][\"elements\"][0][\"duration\"][\"text\"]\n",
    "\n",
    "    return distancia_valor"
   ]
  },
  {
   "cell_type": "code",
   "execution_count": null,
   "metadata": {},
   "outputs": [],
   "source": [
    "# Definindo matrizes de distancias\n",
    "\n",
    "#clusters = np.unique(rotulos_clusters)\n",
    "\n",
    "#for cluster in clusters:\n",
    "base = CDs[CDs['CLUSTERS'] == 1]\n",
    "base.reset_index(inplace=True, drop=True)\n",
    "\n",
    "base2 = base.drop(columns=['LAT','LNG','CLUSTERS'])"
   ]
  },
  {
   "cell_type": "code",
   "execution_count": null,
   "metadata": {},
   "outputs": [],
   "source": [
    "origens = base['CITY - UF']\n",
    "\n",
    "for origem in origens:\n",
    "    base2[origem] = origem"
   ]
  },
  {
   "cell_type": "code",
   "execution_count": null,
   "metadata": {},
   "outputs": [],
   "source": [
    "origens = pd.Series(base['CITY - UF'])\n",
    "destinos = origens\n",
    "\n",
    "for linha in range(0,base2.shape[0]):\n",
    "    origem = base2.loc[linha,'CITY - UF']\n",
    "    for coluna in range(3,base2.shape[1]):\n",
    "        destino = base2.iloc[linha,coluna]\n",
    "        \n",
    "        if origem == destino:\n",
    "            base2.iloc[linha,coluna] = 0          \n",
    "        else:\n",
    "            base2.iloc[linha,coluna] = calculando_distancias(origem,destino)"
   ]
  },
  {
   "cell_type": "code",
   "execution_count": null,
   "metadata": {},
   "outputs": [],
   "source": [
    "base2"
   ]
  }
 ],
 "metadata": {
  "kernelspec": {
   "display_name": "Python 3 (ipykernel)",
   "language": "python",
   "name": "python3"
  },
  "language_info": {
   "codemirror_mode": {
    "name": "ipython",
    "version": 3
   },
   "file_extension": ".py",
   "mimetype": "text/x-python",
   "name": "python",
   "nbconvert_exporter": "python",
   "pygments_lexer": "ipython3",
   "version": "3.11.5"
  }
 },
 "nbformat": 4,
 "nbformat_minor": 4
}
