{
 "cells": [
  {
   "cell_type": "markdown",
   "id": "0ff445ec",
   "metadata": {},
   "source": [
    "### GERADOR DE DADOS ALEATORIOS\n",
    "\n",
    "Esse script irá gerar dados aleatórios para as partidas, gols, tempo e status, possibilitando chegar a diversos resultados distintos.\n",
    "\n",
    "Caso queira gerar mais registros, aumente a base de jogadores com novos nomes (Chatgpt pode ajudar com isso)"
   ]
  },
  {
   "cell_type": "code",
   "execution_count": 1,
   "id": "cbb85bcd",
   "metadata": {},
   "outputs": [],
   "source": [
    "import pandas as pd\n",
    "import numpy as np\n",
    "import random"
   ]
  },
  {
   "cell_type": "code",
   "execution_count": 2,
   "id": "73eef25c",
   "metadata": {},
   "outputs": [],
   "source": [
    "# importando base de jogadores unicos\n",
    "jogadores = pd.read_csv('jogadores.csv', sep=',')\n",
    "jogadores = jogadores['player_id'].unique()"
   ]
  },
  {
   "cell_type": "code",
   "execution_count": 3,
   "id": "c02b0826",
   "metadata": {},
   "outputs": [],
   "source": [
    "#Parametros:\n",
    "# Partidas = min 5, max 50\n",
    "# Gols = min 0, max 15\n",
    "# tempo partida = min 20, max 45\n",
    "\n",
    "dados_partidas = {}\n",
    "dados = []\n",
    "\n",
    "for jogador in jogadores:\n",
    "    loops = random.randrange(5, 50, 1) # gerando partidas aleatorias\n",
    "    for loop in range(0,loops):\n",
    "        dados_partidas = {'player_id':jogador, \n",
    "                          'partida_id':jogador[:3]+str(f'{loop+1:04}'), # gerando ids das partidas\n",
    "                          'tempo_partida':random.randrange(20, 45, 1), # gerando tempo das partidas\n",
    "                          'gols_marcados':random.randrange(0, 10, 1), # gerando gols marcados\n",
    "                          'gols_recebidos':random.randrange(0, 10, 1)*-1 # gerando gols recebidos\n",
    "                         }\n",
    "        dados.append(dados_partidas)\n",
    "        \n",
    "base_partidas = pd.DataFrame(dados)\n",
    "\n",
    "# Gerando status das partidas (vitoria, empate, derrota)\n",
    "for linha in range(0, len(base_partidas)):\n",
    "    gols_m = base_partidas.loc[linha, 'gols_marcados']\n",
    "    gols_r = base_partidas.loc[linha, 'gols_recebidos']*-1\n",
    "    \n",
    "    if gols_m > gols_r:\n",
    "        base_partidas.loc[linha, 'status'] = 'V'\n",
    "    elif gols_m < gols_r:\n",
    "        base_partidas.loc[linha, 'status'] = 'D'\n",
    "    else:\n",
    "        base_partidas.loc[linha, 'status'] = 'E'"
   ]
  },
  {
   "cell_type": "code",
   "execution_count": 5,
   "id": "0d53e2ad",
   "metadata": {},
   "outputs": [],
   "source": [
    "# Expotando nova base de partidas\n",
    "base_partidas.to_csv('partidas.csv',sep=',', index=False)"
   ]
  }
 ],
 "metadata": {
  "kernelspec": {
   "display_name": "Python 3 (ipykernel)",
   "language": "python",
   "name": "python3"
  },
  "language_info": {
   "codemirror_mode": {
    "name": "ipython",
    "version": 3
   },
   "file_extension": ".py",
   "mimetype": "text/x-python",
   "name": "python",
   "nbconvert_exporter": "python",
   "pygments_lexer": "ipython3",
   "version": "3.11.5"
  }
 },
 "nbformat": 4,
 "nbformat_minor": 5
}
