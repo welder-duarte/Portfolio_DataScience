{
 "cells": [
  {
   "cell_type": "markdown",
   "id": "5d7269c4",
   "metadata": {},
   "source": [
    "#### Bibliotecas e configuracoes"
   ]
  },
  {
   "cell_type": "code",
   "execution_count": 1,
   "id": "200a2227",
   "metadata": {},
   "outputs": [],
   "source": [
    "import os\n",
    "import json\n",
    "import numpy as np\n",
    "import pandas as pd\n",
    "import seaborn as sns\n",
    "import warnings\n",
    "import googlemaps\n",
    "import concurrent.futures\n",
    "from concurrent.futures import ThreadPoolExecutor\n",
    "\n",
    "# Pacote com todas as funcoes devenvolvidas para esse projeto\n",
    "from functions_proj_scraping import *\n",
    "\n",
    "# Configs\n",
    "pd.set_option('display.float_format', '{:.2f}'.format)\n",
    "pd.set_option('display.precision', 2)\n",
    "warnings.filterwarnings('ignore')"
   ]
  },
  {
   "cell_type": "markdown",
   "id": "3d0a6012",
   "metadata": {},
   "source": [
    "#### Pegar todos os anuncios de todas as paginas do site (macro) com paralelismo"
   ]
  },
  {
   "cell_type": "code",
   "execution_count": null,
   "id": "395feb25",
   "metadata": {},
   "outputs": [],
   "source": [
    "url = 'https://www.lagoimobiliaria.com.br/pesquisa-de-imoveis/?locacao_venda=V&id_cidade%5B%5D=90&id_tipo_imovel%5B%5D=5&id_tipo_imovel%5B%5D=20&id_tipo_imovel%5B%5D=19&finalidade=residencial&dormitorio=0&garagem=0&vmi=&vma='\n",
    "#url = 'https://www.lagoimobiliaria.com.br/pesquisa-de-imoveis/?locacao_venda=V&id_cidade%5B%5D=90&id_tipo_imovel%5B%5D=4&finalidade=0&dormitorio=0&garagem=0&vmi=&vma='\n",
    "paginas = total_paginas_site(url)\n",
    "\n",
    "base_geral = []\n",
    "\n",
    "# Funcao para executar o scrapping\n",
    "def processar_pagina(pag):\n",
    "    soup = gerando_soup_principal(url, pag)\n",
    "    pagina = soup.find('div', {'class':'properties_item_two row'}).findAll('div', class_='col-lg-3 col-md-4 col-sm-6 col-xs-12')\n",
    "    \n",
    "    resultados_pagina = []\n",
    "    \n",
    "    for item in range(0, len(pagina)):\n",
    "        resultado = dados_pag_principal(pagina[item], item)\n",
    "        resultados_pagina.append(resultado)\n",
    "    \n",
    "    return resultados_pagina\n",
    "\n",
    "# Paralelismo\n",
    "with concurrent.futures.ThreadPoolExecutor() as executor:\n",
    "    resultados_paginas = list(executor.map(processar_pagina, range(paginas)))\n",
    "\n",
    "# \"Aplanhando\" a lista de listas para obter uma única lista de resultados\n",
    "base_geral = [resultado for resultados_pagina in resultados_paginas for resultado in resultados_pagina]"
   ]
  },
  {
   "cell_type": "markdown",
   "id": "288c56b8",
   "metadata": {},
   "source": [
    "#### Carregando dados macro para dataframe e tratando dados"
   ]
  },
  {
   "cell_type": "code",
   "execution_count": null,
   "id": "3c422752",
   "metadata": {},
   "outputs": [],
   "source": [
    "# Criando dataframe e Trocando Nan -> 0 e removendo duplicidades\n",
    "df = pd.DataFrame(base_geral)\n",
    "df.fillna(0, inplace=True)\n",
    "df.drop_duplicates(subset=['link'], keep='first', inplace=True, ignore_index=True)\n",
    "\n",
    "# Criando coluna com nro de indice para merge posterior\n",
    "df['indice'] = df.index\n",
    "\n",
    "# Corrigindo encoding no link para evitar erros\n",
    "df['link'] = df.apply(lambda row: safeStr(row['link']), axis=1)\n",
    "\n",
    "# Reindexando\n",
    "df.reset_index(inplace=True, drop=True)"
   ]
  },
  {
   "cell_type": "markdown",
   "id": "53d84740",
   "metadata": {},
   "source": [
    "#### Pegando dados complementares de todos os anuncios com paralelismo"
   ]
  },
  {
   "cell_type": "code",
   "execution_count": null,
   "id": "a2b4d05a",
   "metadata": {},
   "outputs": [],
   "source": [
    "# Funcao para processar o scrapping de cada anuncio especificamente\n",
    "def processar_anuncio(link, index):\n",
    "    try:\n",
    "        pagina = gerando_soup_anuncio(link)\n",
    "        resultado = dados_pag_anuncio(pagina, index)\n",
    "        if resultado != 'erro':\n",
    "            return resultado\n",
    "    except:\n",
    "        pass\n",
    "    return None\n",
    "\n",
    "# Criando df com links para loop no paralelismo\n",
    "links = pd.DataFrame(df['link'])\n",
    "\n",
    "# Criando lista para gravar resultados\n",
    "base_geral = []\n",
    "\n",
    "# Usando paralelismo com limite de operacoes simultaneas\n",
    "max_workers = os.cpu_count()\n",
    "with concurrent.futures.ThreadPoolExecutor(max_workers=max_workers) as executor:\n",
    "    futures = {executor.submit(processar_anuncio, row['link'], index): index for index, row in links.iterrows()}\n",
    "\n",
    "    # Coletando  e gravando os resultados na lista\n",
    "    for future in concurrent.futures.as_completed(futures):\n",
    "        resultado = future.result()\n",
    "        if resultado:\n",
    "            base_geral.append(resultado)"
   ]
  },
  {
   "cell_type": "markdown",
   "id": "4c85d774",
   "metadata": {},
   "source": [
    "#### Carregando dados anuncios para dataframe, tratando dados e combinando bases"
   ]
  },
  {
   "cell_type": "code",
   "execution_count": null,
   "id": "81651392",
   "metadata": {},
   "outputs": [],
   "source": [
    "# Criando dataframe e trocando Nan -> 0\n",
    "df2 = pd.DataFrame(base_geral) \n",
    "df2.fillna(0, inplace=True)\n",
    "\n",
    "# Mesclando df + df2\n",
    "base_final = df.merge(df2, how='inner', on='indice')\n",
    "base_final.fillna(0, inplace=True)\n",
    "#del df, df2"
   ]
  },
  {
   "cell_type": "markdown",
   "id": "431e0065",
   "metadata": {},
   "source": [
    "#### Tratando base final"
   ]
  },
  {
   "cell_type": "code",
   "execution_count": null,
   "id": "4ea7c0fe",
   "metadata": {},
   "outputs": [],
   "source": [
    "# Criando coluna de preco\n",
    "# Existem 2 campos de precos no site e ainda a possibilidade de haver apenas preco de aluguel\n",
    "# Regras aqui: Se valor >= valor_venda entao mantem valor, senao valor_venda\n",
    "base_final['preco'] = np.where(base_final['valor']>=base_final['valor_venda'],\n",
    "                               base_final['valor'],\n",
    "                               base_final['valor_venda'])\n",
    "\n",
    "# Regras aqui: Se preco == valor_aluguel entao zera valor (queremos apenas anuncios de venda), senao mantem preco. \n",
    "base_final['preco'] = np.where(base_final['preco']==base_final['valor_aluguel'],\n",
    "                               0,\n",
    "                               base_final['preco'])\n",
    "\n",
    "# Arredondando centavos\n",
    "base_final['preco'] = base_final['preco'].round(0)\n",
    "\n",
    "# Criando faixa de valores\n",
    "faixas = ['até 250k','250k a 500k','501k a 750k','751k a 1M','acima 1M']\n",
    "base_final['faixas_precos'] = pd.cut(base_final['preco'], bins=[0,250000,500000,750000,1000000,8000000], labels=faixas)\n",
    "\n",
    "# Criando colunas de metragens\n",
    "# Para CASAS existe area total e terreno, para APTOS existe area util e area construida\n",
    "base_final['area_total_ou_terreno'] = np.where(base_final['area_total']==0,\n",
    "                                               base_final['area_terreno'],\n",
    "                                               base_final['area_total'])\n",
    "\n",
    "base_final['area_util_ou_construida'] = np.where(base_final['area_util']==0,\n",
    "                                                 base_final['area_construida'],\n",
    "                                                 base_final['area_util'])\n",
    "\n",
    "base_final['check_area'] = base_final['area_total_ou_terreno'] + base_final['area_util_ou_construida']\n",
    "\n",
    "# Excluindo valores zerados\n",
    "base_final = base_final[base_final['preco'] > 0]\n",
    "base_final = base_final[base_final['check_area'] > 0]\n",
    "base_final = base_final[base_final['classificacao'] != '0']\n",
    "base_final.drop(columns=['indice','valor_venda','valor','area_util','area_total','check_area',\n",
    "                         'area_terreno','area_construida'], inplace=True)\n",
    "\n",
    "# Reindexando\n",
    "base_final.reset_index(inplace=True, drop=True)\n",
    "\n",
    "# Convertendo ints\n",
    "colunas = ['quartos','suites','banheiros','vagas']\n",
    "base_final[colunas] = base_final[colunas].astype('int32')\n",
    "\n",
    "# Removendo palavras sem contexto do campo bairros e zona\n",
    "base_final['bairro'] = base_final['bairro'].str.replace('lancamento ', '')\n",
    "base_final['zona'] = base_final['zona'].str.replace('zona ', '')\n",
    "\n",
    "# Convertendo objetos para categorias\n",
    "colunas = ['bairro','cidade','zona','classificacao','pagina']\n",
    "base_final[colunas] = base_final[colunas].astype('category')\n",
    "\n",
    "# Ajustando bytes de tipagens numericas\n",
    "base_final = tipagem(base_final)\n",
    "\n",
    "# Remocao de outliers\n",
    "base_final = remove_outliers(base_final)\n",
    "\n",
    "# Criando coluna de preco x metragem\n",
    "base_final['preco_m2'] = [round((preco / area_total),0) if area_total > area_util else round((preco / area_util),0) \n",
    "                          for preco, area_total, area_util in zip(base_final['preco'], \n",
    "                                                                  base_final['area_total_ou_terreno'], \n",
    "                                                                  base_final['area_util_ou_construida'])]\n",
    "\n",
    "# Adicionando coluna para simplificar contagens\n",
    "base_final['registros'] = 1\n",
    "\n",
    "# Reorganizando\n",
    "base_final = base_final[['bairro','cidade','zona','descricao','telefones','link','link_foto_capa','classificacao','pagina',\n",
    "                         'faixas_precos', 'preco','preco_m2','quartos','suites','banheiros','vagas','itens_do_imovel', \n",
    "                         'itens_do_condominio','area_total_ou_terreno','area_util_ou_construida','valor_condominio', \n",
    "                         'valor_iptu','valor_aluguel','registros']]\n",
    "\n",
    "# Criando ID\n",
    "base_final['id'] = base_final.index\n",
    "\n",
    "# Reindexando\n",
    "base_final.reset_index(inplace=True, drop=True)"
   ]
  },
  {
   "cell_type": "markdown",
   "id": "4782c166",
   "metadata": {},
   "source": [
    "#### Adicionando coordenadas dos bairros com API Google Maps"
   ]
  },
  {
   "cell_type": "code",
   "execution_count": null,
   "id": "29b19596",
   "metadata": {},
   "outputs": [],
   "source": [
    "# Iniciando API google maps\n",
    "api_key = json.load(open(r'C:\\Users\\Valeria\\Projetos_DS\\cred_gclp.json')).get('api_key')\n",
    "gmaps = googlemaps.Client(key=api_key)\n",
    "\n",
    "def coletar_coordenadas(local):\n",
    "    geocode = gmaps.geocode(local)\n",
    "    lat = geocode[0]['geometry']['location']['lat']\n",
    "    lng = geocode[0]['geometry']['location']['lng']\n",
    "\n",
    "    return [lat,lng]"
   ]
  },
  {
   "cell_type": "code",
   "execution_count": null,
   "id": "58c14478",
   "metadata": {},
   "outputs": [],
   "source": [
    "base_bairros = base_final[['bairro','cidade','zona']].drop_duplicates(keep='first').reset_index(drop=True)\n",
    "\n",
    "for linha in range(0,len(base_bairros)):\n",
    "    local = base_bairros.loc[linha, 'bairro'] +', '+ base_bairros.loc[linha, 'cidade']\n",
    "    lat_lng = coletar_coordenadas(local)\n",
    "    \n",
    "    base_bairros.loc[linha, 'lat'] = lat_lng[0]\n",
    "    base_bairros.loc[linha, 'lng'] = lat_lng[1]"
   ]
  },
  {
   "cell_type": "markdown",
   "id": "0db3339b",
   "metadata": {},
   "source": [
    "#### Trabalhando base de itens do imovel"
   ]
  },
  {
   "cell_type": "code",
   "execution_count": 18,
   "id": "742f4ca0",
   "metadata": {},
   "outputs": [],
   "source": [
    "# Quebrando lista de itens da base_final\n",
    "base_itens_imovel = separa_itens(base_final[['id','itens_do_imovel']],'itens_do_imovel')\n",
    "\n",
    "# Tratando dados\n",
    "base_itens_imovel['itens'] = base_itens_imovel['itens'].str.replace(\"'\",'').str.strip()\n",
    "\n",
    "# Excluindo informacoes pouco uteis\n",
    "lista_exclusao = ['apartamento por andar', 'torre', 'terre', 'quantidade de andares', 'restricao']\n",
    "lista_indices = []\n",
    "for item, index in zip(base_itens_imovel['itens'],base_itens_imovel['id']):\n",
    "    for item_exclusao in lista_exclusao:\n",
    "        if item_exclusao in item:\n",
    "            lista_indices.append(index)\n",
    "            \n",
    "base_itens_imovel = base_itens_imovel[~base_itens_imovel['id'].isin(lista_indices)]\n",
    "base_itens_imovel.reset_index(inplace=True,drop=True)\n",
    "\n",
    "# Alterando registros (Agrupando similares)\n",
    "lista_alteracao = ['armario','elevador','piscina','portaria','varanda']\n",
    "\n",
    "for linha in range(0, len(base_itens_imovel)):\n",
    "    item_imovel = base_itens_imovel.loc[linha, 'itens']\n",
    "    for item_alteracao in lista_alteracao:\n",
    "        if item_alteracao in item_imovel:\n",
    "            base_itens_imovel.loc[linha, 'itens'] = item_alteracao"
   ]
  },
  {
   "cell_type": "code",
   "execution_count": 19,
   "id": "02d8e46f",
   "metadata": {},
   "outputs": [],
   "source": [
    "# Criando grupos\n",
    "grupo_cond_seg = ['gas encanado','cerca eletrica','medidor de agua individual','portaria',\n",
    "                  'cameras de seguranca','portao eletronico','alarme','elevador','gerador']\n",
    "\n",
    "grupo_lazer = ['piscina','espaco kids','salao de jogos','salao de festa','quadra tenis','quadra poliesportiva',\n",
    "               'playground', 'campo de futebol','pista de caminhada','espaco gourmet','fitness','cinema',\n",
    "               'bicicletario','espaco mulher', 'churrasqueira']\n",
    "\n",
    "grupo_itens_imovel = ['sala de estar', 'armario', 'lavabo', 'box', 'quintal', 'ventilador de teto', 'sacada',\n",
    "                      'escritorio', 'varanda', 'ar condicionado', 'banheiro de servico', 'mobiliado','sauna',\n",
    "                      'iluminacao','jacuzzi']\n",
    "\n",
    "for linha in range(0, len(base_itens_imovel)):\n",
    "    item_imovel = base_itens_imovel.loc[linha, 'itens']\n",
    "    if item_imovel in grupo_cond_seg:\n",
    "        base_itens_imovel.loc[linha, 'grupo'] = 'itens_seg_e_cond'\n",
    "    elif item_imovel in grupo_lazer:\n",
    "        base_itens_imovel.loc[linha, 'grupo'] = 'itens_lazer'\n",
    "    elif item_imovel in grupo_itens_imovel:\n",
    "        base_itens_imovel.loc[linha, 'grupo'] = 'itens_imovel'\n",
    "    else:\n",
    "        base_itens_imovel.loc[linha, 'grupo'] = 'sem_classificacao'"
   ]
  },
  {
   "cell_type": "code",
   "execution_count": 20,
   "id": "a195d77a",
   "metadata": {},
   "outputs": [],
   "source": [
    "# Adicionando contagem de itens na base_final\n",
    "contagem_itens = base_itens_imovel.groupby(by=['id','grupo']).count()\n",
    "contagem_itens = contagem_itens.pivot_table(index='id', columns='grupo', values='itens').fillna(0).reset_index()\n",
    "base_final = base_final.merge(contagem_itens[['id','itens_imovel','itens_lazer','itens_seg_e_cond']], how='inner', on='id')\n",
    "\n",
    "# Convertendo ints\n",
    "colunas = ['itens_imovel','itens_lazer','itens_seg_e_cond']\n",
    "base_final[colunas] = base_final[colunas].astype('int32')"
   ]
  },
  {
   "cell_type": "markdown",
   "id": "bcb1eff1",
   "metadata": {},
   "source": [
    "#### Exportando arquivos csv"
   ]
  },
  {
   "cell_type": "code",
   "execution_count": 25,
   "id": "2260e518",
   "metadata": {},
   "outputs": [],
   "source": [
    "base_final.to_csv('bases/base_final_anuncios.csv',sep=';', encoding='utf-8', index=False, header=True)\n",
    "base_itens_imovel.to_csv('bases/base_itens_imovel.csv',sep=';', encoding='utf-8', index=False, header=True)\n",
    "base_bairros.to_csv('bases/base_bairros.csv',sep=';', encoding='utf-8', index=False, header=True, decimal='.')"
   ]
  },
  {
   "cell_type": "code",
   "execution_count": 2,
   "id": "b03ac43b",
   "metadata": {},
   "outputs": [],
   "source": [
    "# Importando CSVs para validacao\n",
    "#base_final = pd.read_csv('bases/base_final_anuncios.csv', sep=';', encoding='utf-8')\n",
    "#base_final['pagina'] = base_final['pagina'].astype('category')\n",
    "#base_bairros = pd.read_csv('bases/base_bairros.csv', sep=',', encoding='utf-8')\n",
    "#base_itens_imovel = pd.read_csv('bases/base_itens_imovel.csv', sep=';', encoding='utf-8')"
   ]
  }
 ],
 "metadata": {
  "kernelspec": {
   "display_name": "Python 3 (ipykernel)",
   "language": "python",
   "name": "python3"
  },
  "language_info": {
   "codemirror_mode": {
    "name": "ipython",
    "version": 3
   },
   "file_extension": ".py",
   "mimetype": "text/x-python",
   "name": "python",
   "nbconvert_exporter": "python",
   "pygments_lexer": "ipython3",
   "version": "3.11.5"
  }
 },
 "nbformat": 4,
 "nbformat_minor": 5
}
